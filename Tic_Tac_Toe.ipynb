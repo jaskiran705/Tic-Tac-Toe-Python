{
 "cells": [
  {
   "cell_type": "code",
   "execution_count": 11,
   "metadata": {},
   "outputs": [],
   "source": [
    "import numpy as np\n",
    "from termcolor import colored"
   ]
  },
  {
   "cell_type": "code",
   "execution_count": 21,
   "metadata": {},
   "outputs": [],
   "source": [
    "def display_board(board):\n",
    "    print('',board[0][0],' | ',board[0][1],' | ',board[0][2],'\\n',\n",
    "          '--------------','\\n',\n",
    "          board[1][0],' | ',board[1][1],' | ',board[1][2],'\\n',\n",
    "          '--------------','\\n',\n",
    "          board[2][0],' | ',board[2][1],' | ',board[2][2],'\\n')"
   ]
  },
  {
   "cell_type": "code",
   "execution_count": 22,
   "metadata": {},
   "outputs": [],
   "source": [
    "def new_game():    \n",
    "    p1=input(\"Enter Player 1's Name: \")\n",
    "    p2=input(\"Enter Player 2's Name: \")\n",
    "    sym1=colored('X','red',attrs=['bold'])\n",
    "    sym2=colored('O','green',attrs=['bold'])\n",
    "#     board=['#{}'.format()]*9\n",
    "    board=np.arange(1,10).reshape(3,3)\n",
    "#     board=board.reshape(3,3)\n",
    "    d={}\n",
    "    i=1\n",
    "#     for i in range(0,9):\n",
    "    for r in range(0,3):\n",
    "        for c in range(0,3):\n",
    "            d[i]=board[r][c]\n",
    "            i+=1\n",
    "    return (p1,p2,sym1,sym2,board,d)"
   ]
  },
  {
   "cell_type": "code",
   "execution_count": 23,
   "metadata": {},
   "outputs": [],
   "source": [
    "win_comb=[[1,2,3],[4,5,6],[7,8,9],[1,5,9],[3,5,7],[1,4,7],[2,5,8],[3,6,9]]\n",
    "def tic_tac_toe(turn,player,symbol,d):\n",
    "    if d[turn] in range(1,10):\n",
    "        d[turn]=symbol\n",
    "    else:\n",
    "        print('Invalid Move')\n",
    "        return False\n",
    "    board=np.array(list(d.values())).reshape(3,3)\n",
    "    lines=[[d[1],d[2],d[3]],[d[4],d[5],d[6]],[d[7],d[8],d[9]],\n",
    "      [d[1],d[5],d[9]],[d[3],d[5],d[7]],[d[1],d[4],d[7]],[d[2],d[5],d[8]],[d[3],d[6],d[9]]]\n",
    "    display_board(board)\n",
    "    for j,k in enumerate(lines):\n",
    "        res=all(ele == symbol for ele in k) \n",
    "        if res:\n",
    "            print('{} WGurvinder Dhillonins'.format(player))\n",
    "            print('Winning Combination: {}'.format(win_comb[j]))\n",
    "            return False\n",
    "        else:\n",
    "            pass\n",
    "    return True"
   ]
  },
  {
   "cell_type": "code",
   "execution_count": 24,
   "metadata": {},
   "outputs": [
    {
     "name": "stdin",
     "output_type": "stream",
     "text": [
      "Enter Player 1's Name:  m\n",
      "Enter Player 2's Name:  g\n"
     ]
    },
    {
     "name": "stdout",
     "output_type": "stream",
     "text": [
      "TIC TAC TOE\n",
      " 1  |  2  |  3 \n",
      " -------------- \n",
      " 4  |  5  |  6 \n",
      " -------------- \n",
      " 7  |  8  |  9 \n",
      "\n"
     ]
    },
    {
     "name": "stdin",
     "output_type": "stream",
     "text": [
      "m's turn:  1\n"
     ]
    },
    {
     "name": "stdout",
     "output_type": "stream",
     "text": [
      " \u001b[1m\u001b[31mX\u001b[0m  |  2  |  3 \n",
      " -------------- \n",
      " 4  |  5  |  6 \n",
      " -------------- \n",
      " 7  |  8  |  9 \n",
      "\n"
     ]
    },
    {
     "name": "stdin",
     "output_type": "stream",
     "text": [
      "g's turn:  5\n"
     ]
    },
    {
     "name": "stdout",
     "output_type": "stream",
     "text": [
      " \u001b[1m\u001b[31mX\u001b[0m  |  2  |  3 \n",
      " -------------- \n",
      " 4  |  \u001b[1m\u001b[32mO\u001b[0m  |  6 \n",
      " -------------- \n",
      " 7  |  8  |  9 \n",
      "\n"
     ]
    },
    {
     "name": "stdin",
     "output_type": "stream",
     "text": [
      "m's turn:  7\n"
     ]
    },
    {
     "name": "stdout",
     "output_type": "stream",
     "text": [
      " \u001b[1m\u001b[31mX\u001b[0m  |  2  |  3 \n",
      " -------------- \n",
      " 4  |  \u001b[1m\u001b[32mO\u001b[0m  |  6 \n",
      " -------------- \n",
      " \u001b[1m\u001b[31mX\u001b[0m  |  8  |  9 \n",
      "\n"
     ]
    },
    {
     "name": "stdin",
     "output_type": "stream",
     "text": [
      "g's turn:  4\n"
     ]
    },
    {
     "name": "stdout",
     "output_type": "stream",
     "text": [
      " \u001b[1m\u001b[31mX\u001b[0m  |  2  |  3 \n",
      " -------------- \n",
      " \u001b[1m\u001b[32mO\u001b[0m  |  \u001b[1m\u001b[32mO\u001b[0m  |  6 \n",
      " -------------- \n",
      " \u001b[1m\u001b[31mX\u001b[0m  |  8  |  9 \n",
      "\n"
     ]
    },
    {
     "name": "stdin",
     "output_type": "stream",
     "text": [
      "m's turn:  6\n"
     ]
    },
    {
     "name": "stdout",
     "output_type": "stream",
     "text": [
      " \u001b[1m\u001b[31mX\u001b[0m  |  2  |  3 \n",
      " -------------- \n",
      " \u001b[1m\u001b[32mO\u001b[0m  |  \u001b[1m\u001b[32mO\u001b[0m  |  \u001b[1m\u001b[31mX\u001b[0m \n",
      " -------------- \n",
      " \u001b[1m\u001b[31mX\u001b[0m  |  8  |  9 \n",
      "\n"
     ]
    },
    {
     "name": "stdin",
     "output_type": "stream",
     "text": [
      "g's turn:  2\n"
     ]
    },
    {
     "name": "stdout",
     "output_type": "stream",
     "text": [
      " \u001b[1m\u001b[31mX\u001b[0m  |  \u001b[1m\u001b[32mO\u001b[0m  |  3 \n",
      " -------------- \n",
      " \u001b[1m\u001b[32mO\u001b[0m  |  \u001b[1m\u001b[32mO\u001b[0m  |  \u001b[1m\u001b[31mX\u001b[0m \n",
      " -------------- \n",
      " \u001b[1m\u001b[31mX\u001b[0m  |  8  |  9 \n",
      "\n"
     ]
    },
    {
     "name": "stdin",
     "output_type": "stream",
     "text": [
      "m's turn:  8\n"
     ]
    },
    {
     "name": "stdout",
     "output_type": "stream",
     "text": [
      " \u001b[1m\u001b[31mX\u001b[0m  |  \u001b[1m\u001b[32mO\u001b[0m  |  3 \n",
      " -------------- \n",
      " \u001b[1m\u001b[32mO\u001b[0m  |  \u001b[1m\u001b[32mO\u001b[0m  |  \u001b[1m\u001b[31mX\u001b[0m \n",
      " -------------- \n",
      " \u001b[1m\u001b[31mX\u001b[0m  |  \u001b[1m\u001b[31mX\u001b[0m  |  9 \n",
      "\n"
     ]
    },
    {
     "name": "stdin",
     "output_type": "stream",
     "text": [
      "g's turn:  9\n"
     ]
    },
    {
     "name": "stdout",
     "output_type": "stream",
     "text": [
      " \u001b[1m\u001b[31mX\u001b[0m  |  \u001b[1m\u001b[32mO\u001b[0m  |  3 \n",
      " -------------- \n",
      " \u001b[1m\u001b[32mO\u001b[0m  |  \u001b[1m\u001b[32mO\u001b[0m  |  \u001b[1m\u001b[31mX\u001b[0m \n",
      " -------------- \n",
      " \u001b[1m\u001b[31mX\u001b[0m  |  \u001b[1m\u001b[31mX\u001b[0m  |  \u001b[1m\u001b[32mO\u001b[0m \n",
      "\n"
     ]
    },
    {
     "name": "stdin",
     "output_type": "stream",
     "text": [
      "m's turn:  3\n"
     ]
    },
    {
     "name": "stdout",
     "output_type": "stream",
     "text": [
      " \u001b[1m\u001b[31mX\u001b[0m  |  \u001b[1m\u001b[32mO\u001b[0m  |  \u001b[1m\u001b[31mX\u001b[0m \n",
      " -------------- \n",
      " \u001b[1m\u001b[32mO\u001b[0m  |  \u001b[1m\u001b[32mO\u001b[0m  |  \u001b[1m\u001b[31mX\u001b[0m \n",
      " -------------- \n",
      " \u001b[1m\u001b[31mX\u001b[0m  |  \u001b[1m\u001b[31mX\u001b[0m  |  \u001b[1m\u001b[32mO\u001b[0m \n",
      "\n",
      "Game Tied\n"
     ]
    }
   ],
   "source": [
    "p1,p2,sym1,sym2,board,d=new_game()\n",
    "print(\"TIC TAC TOE\")\n",
    "display_board(board)\n",
    "result=True\n",
    "for i in range(0,9):\n",
    "    if result:\n",
    "        if i%2==0:\n",
    "            turn=int(input(\"{}\\'s turn: \".format(p1)))\n",
    "            player=p1\n",
    "            symbol=sym1\n",
    "        else:\n",
    "            turn=int(input(\"{}\\'s turn: \".format(p2)))\n",
    "            player=p2\n",
    "            symbol=sym2\n",
    "        result=tic_tac_toe(turn,player,symbol,d)\n",
    "    else:\n",
    "        print('Game Terminated')\n",
    "        break\n",
    "    if i==8:\n",
    "        print('Game Tied')"
   ]
  },
  {
   "cell_type": "code",
   "execution_count": null,
   "metadata": {},
   "outputs": [],
   "source": []
  }
 ],
 "metadata": {
  "kernelspec": {
   "display_name": "Python 3",
   "language": "python",
   "name": "python3"
  },
  "language_info": {
   "codemirror_mode": {
    "name": "ipython",
    "version": 3
   },
   "file_extension": ".py",
   "mimetype": "text/x-python",
   "name": "python",
   "nbconvert_exporter": "python",
   "pygments_lexer": "ipython3",
   "version": "3.7.4"
  }
 },
 "nbformat": 4,
 "nbformat_minor": 4
}
